{
 "cells": [
  {
   "cell_type": "markdown",
   "metadata": {},
   "source": [
    "# **031:** Train-Test Split for **all** features\n",
    "\n",
    "## 1. Input: \n",
    "\n",
    "```\n",
    "./data/300_features.csv\n",
    "```\n",
    "\n",
    "## 2. Output:\n",
    "```\n",
    "./data/400_X_submit.csv\n",
    "./data/400_X_train.csv\n",
    "./data/400_X_test.csv\n",
    "\n",
    "./data/400_y_train.csv\n",
    "./data/400_y_test.csv\n",
    "```"
   ]
  },
  {
   "cell_type": "code",
   "execution_count": 1,
   "metadata": {},
   "outputs": [],
   "source": [
    "from collections import Counter\n",
    "from IPython.core.interactiveshell import InteractiveShell\n",
    "import pandas as pd\n",
    "import numpy as np\n",
    "import matplotlib\n",
    "import matplotlib.pyplot as plt\n",
    "import seaborn as sns\n",
    "from sklearn.model_selection import train_test_split\n",
    "\n",
    "InteractiveShell.ast_node_interactivity = 'all'\n",
    "\n",
    "df_features = pd.read_csv('./data/310_features_txn.csv')\n",
    "df_train = pd.read_csv('./data/003_train.csv')\n",
    "df_test  = pd.read_csv('./data/004_test.csv')"
   ]
  },
  {
   "cell_type": "code",
   "execution_count": 2,
   "metadata": {},
   "outputs": [
    {
     "data": {
      "text/html": [
       "<div>\n",
       "<style scoped>\n",
       "    .dataframe tbody tr th:only-of-type {\n",
       "        vertical-align: middle;\n",
       "    }\n",
       "\n",
       "    .dataframe tbody tr th {\n",
       "        vertical-align: top;\n",
       "    }\n",
       "\n",
       "    .dataframe thead th {\n",
       "        text-align: right;\n",
       "    }\n",
       "</style>\n",
       "<table border=\"1\" class=\"dataframe\">\n",
       "  <thead>\n",
       "    <tr style=\"text-align: right;\">\n",
       "      <th></th>\n",
       "      <th>c7_n7</th>\n",
       "      <th>c5__0</th>\n",
       "      <th>c5__1</th>\n",
       "      <th>c5__2</th>\n",
       "      <th>c5__3</th>\n",
       "      <th>c5__4</th>\n",
       "      <th>c5__5</th>\n",
       "      <th>c5__6</th>\n",
       "      <th>c5__7</th>\n",
       "      <th>c5__8</th>\n",
       "      <th>...</th>\n",
       "      <th>n6_min</th>\n",
       "      <th>n7_min</th>\n",
       "      <th>n4_median</th>\n",
       "      <th>n5_median</th>\n",
       "      <th>n6_median</th>\n",
       "      <th>n7_median</th>\n",
       "      <th>n4_std</th>\n",
       "      <th>n5_std</th>\n",
       "      <th>n6_std</th>\n",
       "      <th>n7_std</th>\n",
       "    </tr>\n",
       "    <tr>\n",
       "      <th>id</th>\n",
       "      <th></th>\n",
       "      <th></th>\n",
       "      <th></th>\n",
       "      <th></th>\n",
       "      <th></th>\n",
       "      <th></th>\n",
       "      <th></th>\n",
       "      <th></th>\n",
       "      <th></th>\n",
       "      <th></th>\n",
       "      <th></th>\n",
       "      <th></th>\n",
       "      <th></th>\n",
       "      <th></th>\n",
       "      <th></th>\n",
       "      <th></th>\n",
       "      <th></th>\n",
       "      <th></th>\n",
       "      <th></th>\n",
       "      <th></th>\n",
       "      <th></th>\n",
       "    </tr>\n",
       "  </thead>\n",
       "  <tbody>\n",
       "    <tr>\n",
       "      <th>84531</th>\n",
       "      <td>1.270320</td>\n",
       "      <td>0.764710</td>\n",
       "      <td>-5.199338</td>\n",
       "      <td>-5.199338</td>\n",
       "      <td>-5.199338</td>\n",
       "      <td>-5.199338</td>\n",
       "      <td>-5.199338</td>\n",
       "      <td>-5.199338</td>\n",
       "      <td>-5.199338</td>\n",
       "      <td>-5.199338</td>\n",
       "      <td>...</td>\n",
       "      <td>-5.199338</td>\n",
       "      <td>0.383793</td>\n",
       "      <td>0.282216</td>\n",
       "      <td>0.919136</td>\n",
       "      <td>0.167584</td>\n",
       "      <td>0.163898</td>\n",
       "      <td>0.415692</td>\n",
       "      <td>1.260761</td>\n",
       "      <td>-0.098750</td>\n",
       "      <td>-5.199338</td>\n",
       "    </tr>\n",
       "    <tr>\n",
       "      <th>25895</th>\n",
       "      <td>-0.219151</td>\n",
       "      <td>1.255413</td>\n",
       "      <td>-5.199338</td>\n",
       "      <td>-5.199338</td>\n",
       "      <td>-5.199338</td>\n",
       "      <td>-5.199338</td>\n",
       "      <td>-5.199338</td>\n",
       "      <td>-5.199338</td>\n",
       "      <td>-5.199338</td>\n",
       "      <td>-5.199338</td>\n",
       "      <td>...</td>\n",
       "      <td>-5.199338</td>\n",
       "      <td>0.109151</td>\n",
       "      <td>-0.430727</td>\n",
       "      <td>-1.220640</td>\n",
       "      <td>-0.139710</td>\n",
       "      <td>-0.119259</td>\n",
       "      <td>-0.623544</td>\n",
       "      <td>-0.244834</td>\n",
       "      <td>0.079758</td>\n",
       "      <td>-5.199338</td>\n",
       "    </tr>\n",
       "    <tr>\n",
       "      <th>71109</th>\n",
       "      <td>0.437538</td>\n",
       "      <td>1.224655</td>\n",
       "      <td>-5.199338</td>\n",
       "      <td>-5.199338</td>\n",
       "      <td>-5.199338</td>\n",
       "      <td>-5.199338</td>\n",
       "      <td>-5.199338</td>\n",
       "      <td>-5.199338</td>\n",
       "      <td>-5.199338</td>\n",
       "      <td>-5.199338</td>\n",
       "      <td>...</td>\n",
       "      <td>-5.199338</td>\n",
       "      <td>0.542550</td>\n",
       "      <td>-0.764710</td>\n",
       "      <td>-1.220640</td>\n",
       "      <td>-0.128062</td>\n",
       "      <td>0.317705</td>\n",
       "      <td>-0.118187</td>\n",
       "      <td>0.061295</td>\n",
       "      <td>-0.535334</td>\n",
       "      <td>-5.199338</td>\n",
       "    </tr>\n",
       "    <tr>\n",
       "      <th>64666</th>\n",
       "      <td>0.766535</td>\n",
       "      <td>-0.589456</td>\n",
       "      <td>-5.199338</td>\n",
       "      <td>-5.199338</td>\n",
       "      <td>-5.199338</td>\n",
       "      <td>-5.199338</td>\n",
       "      <td>-5.199338</td>\n",
       "      <td>-5.199338</td>\n",
       "      <td>-5.199338</td>\n",
       "      <td>-5.199338</td>\n",
       "      <td>...</td>\n",
       "      <td>-5.199338</td>\n",
       "      <td>0.422254</td>\n",
       "      <td>0.139710</td>\n",
       "      <td>-0.139710</td>\n",
       "      <td>0.953617</td>\n",
       "      <td>0.200034</td>\n",
       "      <td>-0.131737</td>\n",
       "      <td>1.130446</td>\n",
       "      <td>-0.077758</td>\n",
       "      <td>-5.199338</td>\n",
       "    </tr>\n",
       "    <tr>\n",
       "      <th>91813</th>\n",
       "      <td>0.175748</td>\n",
       "      <td>0.000000</td>\n",
       "      <td>-5.199338</td>\n",
       "      <td>-5.199338</td>\n",
       "      <td>-5.199338</td>\n",
       "      <td>-5.199338</td>\n",
       "      <td>-5.199338</td>\n",
       "      <td>-5.199338</td>\n",
       "      <td>-5.199338</td>\n",
       "      <td>-5.199338</td>\n",
       "      <td>...</td>\n",
       "      <td>-5.199338</td>\n",
       "      <td>-0.907052</td>\n",
       "      <td>0.793734</td>\n",
       "      <td>0.535083</td>\n",
       "      <td>0.010823</td>\n",
       "      <td>-1.283143</td>\n",
       "      <td>1.225620</td>\n",
       "      <td>0.830236</td>\n",
       "      <td>-0.411935</td>\n",
       "      <td>-5.199338</td>\n",
       "    </tr>\n",
       "  </tbody>\n",
       "</table>\n",
       "<p>5 rows × 280 columns</p>\n",
       "</div>"
      ],
      "text/plain": [
       "          c7_n7     c5__0     c5__1     c5__2     c5__3     c5__4     c5__5  \\\n",
       "id                                                                            \n",
       "84531  1.270320  0.764710 -5.199338 -5.199338 -5.199338 -5.199338 -5.199338   \n",
       "25895 -0.219151  1.255413 -5.199338 -5.199338 -5.199338 -5.199338 -5.199338   \n",
       "71109  0.437538  1.224655 -5.199338 -5.199338 -5.199338 -5.199338 -5.199338   \n",
       "64666  0.766535 -0.589456 -5.199338 -5.199338 -5.199338 -5.199338 -5.199338   \n",
       "91813  0.175748  0.000000 -5.199338 -5.199338 -5.199338 -5.199338 -5.199338   \n",
       "\n",
       "          c5__6     c5__7     c5__8  ...    n6_min    n7_min  n4_median  \\\n",
       "id                                   ...                                  \n",
       "84531 -5.199338 -5.199338 -5.199338  ... -5.199338  0.383793   0.282216   \n",
       "25895 -5.199338 -5.199338 -5.199338  ... -5.199338  0.109151  -0.430727   \n",
       "71109 -5.199338 -5.199338 -5.199338  ... -5.199338  0.542550  -0.764710   \n",
       "64666 -5.199338 -5.199338 -5.199338  ... -5.199338  0.422254   0.139710   \n",
       "91813 -5.199338 -5.199338 -5.199338  ... -5.199338 -0.907052   0.793734   \n",
       "\n",
       "       n5_median  n6_median  n7_median    n4_std    n5_std    n6_std    n7_std  \n",
       "id                                                                              \n",
       "84531   0.919136   0.167584   0.163898  0.415692  1.260761 -0.098750 -5.199338  \n",
       "25895  -1.220640  -0.139710  -0.119259 -0.623544 -0.244834  0.079758 -5.199338  \n",
       "71109  -1.220640  -0.128062   0.317705 -0.118187  0.061295 -0.535334 -5.199338  \n",
       "64666  -0.139710   0.953617   0.200034 -0.131737  1.130446 -0.077758 -5.199338  \n",
       "91813   0.535083   0.010823  -1.283143  1.225620  0.830236 -0.411935 -5.199338  \n",
       "\n",
       "[5 rows x 280 columns]"
      ]
     },
     "execution_count": 2,
     "metadata": {},
     "output_type": "execute_result"
    }
   ],
   "source": [
    "train_set = pd.merge(df_train, df_features, how='left', on='id')\n",
    "X_submit  = pd.merge(df_test, df_features, how='left', on='id')\n",
    "\n",
    "train_set.set_index('id', inplace=True)\n",
    "X_submit.set_index('id', inplace=True)\n",
    "\n",
    "X = train_set.drop('label', axis=1)\n",
    "y = train_set[['label']]\n",
    "\n",
    "X.head()"
   ]
  },
  {
   "cell_type": "code",
   "execution_count": 3,
   "metadata": {},
   "outputs": [
    {
     "data": {
      "text/plain": [
       "13"
      ]
     },
     "execution_count": 3,
     "metadata": {},
     "output_type": "execute_result"
    }
   ],
   "source": [
    "X_train, X_test, y_train, y_test = train_test_split(X, y, test_size=0.2, stratify=y, random_state=100)\n",
    "\n",
    "len(Counter(y_test.values.reshape(1,-1)[0]))"
   ]
  },
  {
   "cell_type": "code",
   "execution_count": 4,
   "metadata": {},
   "outputs": [
    {
     "name": "stdout",
     "output_type": "stream",
     "text": [
      "<class 'pandas.core.frame.DataFrame'>\n",
      "Int64Index: 100000 entries, 84531 to 35548\n",
      "Columns: 280 entries, c7_n7 to n7_std\n",
      "dtypes: float64(280)\n",
      "memory usage: 214.4 MB\n"
     ]
    }
   ],
   "source": [
    "X.info()"
   ]
  },
  {
   "cell_type": "code",
   "execution_count": 5,
   "metadata": {},
   "outputs": [
    {
     "data": {
      "text/plain": [
       "(100000, 280)"
      ]
     },
     "execution_count": 5,
     "metadata": {},
     "output_type": "execute_result"
    },
    {
     "data": {
      "text/plain": [
       "(53240, 280)"
      ]
     },
     "execution_count": 5,
     "metadata": {},
     "output_type": "execute_result"
    },
    {
     "data": {
      "text/plain": [
       "(80000, 280)"
      ]
     },
     "execution_count": 5,
     "metadata": {},
     "output_type": "execute_result"
    },
    {
     "data": {
      "text/plain": [
       "(20000, 280)"
      ]
     },
     "execution_count": 5,
     "metadata": {},
     "output_type": "execute_result"
    }
   ],
   "source": [
    "X.shape\n",
    "X_submit.shape\n",
    "X_train.shape\n",
    "X_test.shape"
   ]
  },
  {
   "cell_type": "code",
   "execution_count": 6,
   "metadata": {},
   "outputs": [],
   "source": [
    "X_submit.to_csv('./data/410_X_submit.csv', index=True)\n",
    "X_train.to_csv('./data/410_X_train.csv', index=True)\n",
    "X_test.to_csv('./data/410_X_test.csv', index=True)"
   ]
  },
  {
   "cell_type": "code",
   "execution_count": 7,
   "metadata": {},
   "outputs": [],
   "source": [
    "y_train.to_csv('./data/410_y_train.csv', index=True)\n",
    "y_test.to_csv('./data/410_y_test.csv', index=True)"
   ]
  }
 ],
 "metadata": {
  "kernelspec": {
   "display_name": "Python 3",
   "language": "python",
   "name": "python3"
  },
  "language_info": {
   "codemirror_mode": {
    "name": "ipython",
    "version": 3
   },
   "file_extension": ".py",
   "mimetype": "text/x-python",
   "name": "python",
   "nbconvert_exporter": "python",
   "pygments_lexer": "ipython3",
   "version": "3.6.8"
  }
 },
 "nbformat": 4,
 "nbformat_minor": 4
}
