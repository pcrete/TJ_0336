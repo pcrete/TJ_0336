{
 "cells": [
  {
   "cell_type": "markdown",
   "metadata": {},
   "source": [
    "# Base CatBoost Regressor"
   ]
  },
  {
   "cell_type": "code",
   "execution_count": 1,
   "metadata": {},
   "outputs": [
    {
     "name": "stdout",
     "output_type": "stream",
     "text": [
      "Num GPUs Available:  1\n"
     ]
    },
    {
     "data": {
      "text/plain": [
       "(80000, 375)"
      ]
     },
     "execution_count": 1,
     "metadata": {},
     "output_type": "execute_result"
    }
   ],
   "source": [
    "import pathlib\n",
    "import pandas as pd\n",
    "import numpy as np\n",
    "import matplotlib.pyplot as plt\n",
    "import seaborn as sns\n",
    "import xgboost as xgb\n",
    "import tensorflow as tf\n",
    "\n",
    "from collections import Counter\n",
    "from sklearn import metrics\n",
    "from sklearn.model_selection import train_test_split\n",
    "from sklearn.model_selection import cross_val_score\n",
    "from sklearn.model_selection import cross_val_predict\n",
    "from sklearn.model_selection import StratifiedKFold\n",
    "from sklearn.metrics import make_scorer\n",
    "from sklearn import ensemble, linear_model\n",
    "from xgboost.sklearn import XGBClassifier\n",
    "from bayes_opt import BayesianOptimization\n",
    "from tensorflow import keras\n",
    "from tensorflow.keras import layers\n",
    "from catboost import Pool, CatBoostClassifier\n",
    "from utils.metrics import Metric\n",
    "from tqdm import tqdm\n",
    "weights = pd.read_csv('data/005_weights.csv')['weight'].values\n",
    "\n",
    "print(\"Num GPUs Available: \", len(tf.config.experimental.list_physical_devices('GPU')))\n",
    "\n",
    "X_submit = pd.concat([ \n",
    "    pd.read_csv('./data/420_X_submit.csv'), \n",
    "    pd.read_csv('./data/520_X_submit_preds.csv', header=None),\n",
    "], axis=1)\n",
    "\n",
    "X_train = pd.concat([\n",
    "    pd.read_csv('./data/420_X_train.csv'), \n",
    "    pd.read_csv('./data/520_X_train_preds.csv', header=None)\n",
    "], axis=1)\n",
    "\n",
    "X_test = pd.concat([\n",
    "    pd.read_csv('./data/420_X_test.csv'),\n",
    "    pd.read_csv('./data/520_X_test_preds.csv', header=None), \n",
    "], axis=1)\n",
    "\n",
    "X_submit = X_submit.set_index('id')\n",
    "X_train  = X_train.set_index('id')\n",
    "X_test   = X_test.set_index('id')\n",
    "\n",
    "y_submit = pd.read_csv('./data/004_test.csv', index_col='id')\n",
    "y_train = pd.read_csv('./data/410_y_train.csv', index_col='id')\n",
    "y_test = pd.read_csv('./data/410_y_test.csv', index_col='id')\n",
    "\n",
    "X_submit = X_submit.values\n",
    "X_train = X_train.values\n",
    "X_test = X_test.values\n",
    "y_train = np.squeeze(y_train.values)\n",
    "y_test = np.squeeze(y_test.values)\n",
    "\n",
    "X_train.shape"
   ]
  },
  {
   "cell_type": "code",
   "execution_count": 2,
   "metadata": {},
   "outputs": [
    {
     "name": "stderr",
     "output_type": "stream",
     "text": [
      "3it [02:21, 47.03s/it]\n"
     ]
    },
    {
     "name": "stdout",
     "output_type": "stream",
     "text": [
      "1.7886362774002267\n",
      "CPU times: user 4h 56min 4s, sys: 1min 49s, total: 4h 57min 53s\n",
      "Wall time: 6min 23s\n"
     ]
    }
   ],
   "source": [
    "%%time\n",
    "model_1 = CatBoostClassifier(iterations=1500,\n",
    "                           depth=4,\n",
    "                           learning_rate=0.3,\n",
    "                           loss_function='MultiClass',\n",
    "                           random_seed=100,\n",
    "                           verbose=False)\n",
    "\n",
    "skf = StratifiedKFold(n_splits=3)\n",
    "skf.get_n_splits(X_train, y_train)\n",
    "\n",
    "y_train_pred_1 = []\n",
    "for train_index, test_index in tqdm(skf.split(X_train, y_train)):\n",
    "    xt, xv = X_train[train_index], X_train[test_index]\n",
    "    yt, yv = y_train[train_index], y_train[test_index]\n",
    "    # train the model\n",
    "    model_1.fit(xt, yt, eval_set=(xv, yv), early_stopping_rounds=35)\n",
    "    y_train_pred_1.append(model_1.predict_proba(xv))\n",
    "    \n",
    "y_train_pred_1 = np.concatenate(y_train_pred_1)\n",
    "print(metrics.log_loss(y_train, y_train_pred_1))\n",
    "model_1.fit(X_train, y_train)\n",
    "y_test_pred_1   = model_1.predict_proba(X_test)\n",
    "y_submit_pred_1 = model_1.predict_proba(X_submit)"
   ]
  },
  {
   "cell_type": "code",
   "execution_count": 4,
   "metadata": {},
   "outputs": [
    {
     "data": {
      "text/plain": [
       "array([1.65072966e-02, 6.29526617e-02, 7.38880672e-02, 3.84214333e-01,\n",
       "       1.28845757e-01, 3.28368630e-08, 5.17906181e-03, 1.77161749e-03,\n",
       "       1.10185682e-01, 8.97361059e-04, 1.71374653e-01, 9.15474469e-03,\n",
       "       3.50287307e-02])"
      ]
     },
     "execution_count": 4,
     "metadata": {},
     "output_type": "execute_result"
    }
   ],
   "source": [
    "model_1.predict_proba(X_test)[0]"
   ]
  },
  {
   "cell_type": "code",
   "execution_count": 5,
   "metadata": {},
   "outputs": [
    {
     "data": {
      "text/plain": [
       "1.212342016756957"
      ]
     },
     "execution_count": 5,
     "metadata": {},
     "output_type": "execute_result"
    }
   ],
   "source": [
    "metrics.log_loss(y_test, model_1.predict_proba(X_test))"
   ]
  },
  {
   "cell_type": "code",
   "execution_count": 8,
   "metadata": {},
   "outputs": [
    {
     "data": {
      "text/plain": [
       "((80000, 13), (20000, 13), (53240, 13))"
      ]
     },
     "execution_count": 8,
     "metadata": {},
     "output_type": "execute_result"
    }
   ],
   "source": [
    "X_train_preds = np.concatenate([\n",
    "    y_train_pred_1\n",
    "], axis=1)\n",
    "\n",
    "\n",
    "X_test_preds = np.concatenate([\n",
    "    y_test_pred_1\n",
    "], axis=1)\n",
    "\n",
    "X_submit_preds = np.concatenate([\n",
    "    y_submit_pred_1\n",
    "], axis=1)\n",
    "\n",
    "X_train_preds.shape, X_test_preds.shape, X_submit_preds.shape"
   ]
  },
  {
   "cell_type": "code",
   "execution_count": 9,
   "metadata": {},
   "outputs": [
    {
     "data": {
      "text/plain": [
       "(153240, 13)"
      ]
     },
     "execution_count": 9,
     "metadata": {},
     "output_type": "execute_result"
    }
   ],
   "source": [
    "X_tmp = np.concatenate((\n",
    "    X_train_preds,\n",
    "    X_test_preds,\n",
    "    X_submit_preds\n",
    "), axis=0)\n",
    "\n",
    "X_tmp.shape"
   ]
  },
  {
   "cell_type": "code",
   "execution_count": 10,
   "metadata": {},
   "outputs": [],
   "source": [
    "from sklearn.preprocessing import QuantileTransformer\n",
    "qt = QuantileTransformer(n_quantiles=10, random_state=100, output_distribution='normal')"
   ]
  },
  {
   "cell_type": "code",
   "execution_count": 11,
   "metadata": {},
   "outputs": [],
   "source": [
    "qt.fit(X_tmp)\n",
    "\n",
    "X_train_preds  = qt.transform(X_train_preds)\n",
    "X_test_preds   = qt.transform(X_test_preds)\n",
    "X_submit_preds = qt.transform(X_submit_preds)"
   ]
  },
  {
   "cell_type": "code",
   "execution_count": 13,
   "metadata": {},
   "outputs": [],
   "source": [
    "from joblib import dump, load"
   ]
  },
  {
   "cell_type": "code",
   "execution_count": 14,
   "metadata": {},
   "outputs": [
    {
     "data": {
      "text/plain": [
       "['M_336/522_base_ml_qt_normal.joblib']"
      ]
     },
     "execution_count": 14,
     "metadata": {},
     "output_type": "execute_result"
    }
   ],
   "source": [
    "dump(model_1, 'M_336/522_base_ml_model_1.joblib')\n",
    "dump(qt, 'M_336/522_base_ml_qt_normal.joblib')"
   ]
  },
  {
   "cell_type": "code",
   "execution_count": 15,
   "metadata": {},
   "outputs": [],
   "source": [
    "np.savetxt('data/522_X_train_preds.csv' , X_train_preds , delimiter=\",\")\n",
    "np.savetxt('data/522_X_test_preds.csv'  , X_test_preds  , delimiter=\",\")\n",
    "np.savetxt('data/522_X_submit_preds.csv', X_submit_preds, delimiter=\",\")"
   ]
  }
 ],
 "metadata": {
  "kernelspec": {
   "display_name": "Python 3",
   "language": "python",
   "name": "python3"
  },
  "language_info": {
   "codemirror_mode": {
    "name": "ipython",
    "version": 3
   },
   "file_extension": ".py",
   "mimetype": "text/x-python",
   "name": "python",
   "nbconvert_exporter": "python",
   "pygments_lexer": "ipython3",
   "version": "3.6.8"
  }
 },
 "nbformat": 4,
 "nbformat_minor": 4
}
