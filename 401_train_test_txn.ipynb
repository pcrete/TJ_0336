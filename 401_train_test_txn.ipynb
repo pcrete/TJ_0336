{
 "cells": [
  {
   "cell_type": "markdown",
   "metadata": {},
   "source": [
    "# **031:** Train-Test Split for **all** features\n",
    "\n",
    "## 1. Input: \n",
    "\n",
    "```\n",
    "./data/300_features.csv\n",
    "```\n",
    "\n",
    "## 2. Output:\n",
    "```\n",
    "./data/400_X_submit.csv\n",
    "./data/400_X_train.csv\n",
    "./data/400_X_test.csv\n",
    "\n",
    "./data/400_y_train.csv\n",
    "./data/400_y_test.csv\n",
    "```"
   ]
  },
  {
   "cell_type": "code",
   "execution_count": 1,
   "metadata": {},
   "outputs": [],
   "source": [
    "from collections import Counter\n",
    "from IPython.core.interactiveshell import InteractiveShell\n",
    "import pandas as pd\n",
    "import numpy as np\n",
    "import matplotlib\n",
    "import matplotlib.pyplot as plt\n",
    "import seaborn as sns\n",
    "from sklearn.model_selection import train_test_split\n",
    "\n",
    "InteractiveShell.ast_node_interactivity = 'all'\n",
    "\n",
    "df_features = pd.read_csv('./data/301_features_txn_ns_cmj_clboh.csv')\n",
    "df_train = pd.read_csv('./data/003_train.csv')\n",
    "df_test  = pd.read_csv('./data/004_test.csv')"
   ]
  },
  {
   "cell_type": "code",
   "execution_count": 2,
   "metadata": {},
   "outputs": [
    {
     "data": {
      "text/html": [
       "<div>\n",
       "<style scoped>\n",
       "    .dataframe tbody tr th:only-of-type {\n",
       "        vertical-align: middle;\n",
       "    }\n",
       "\n",
       "    .dataframe tbody tr th {\n",
       "        vertical-align: top;\n",
       "    }\n",
       "\n",
       "    .dataframe thead th {\n",
       "        text-align: right;\n",
       "    }\n",
       "</style>\n",
       "<table border=\"1\" class=\"dataframe\">\n",
       "  <thead>\n",
       "    <tr style=\"text-align: right;\">\n",
       "      <th></th>\n",
       "      <th>n4_mean</th>\n",
       "      <th>n5_mean</th>\n",
       "      <th>n6_mean</th>\n",
       "      <th>n7_mean</th>\n",
       "      <th>n4_max</th>\n",
       "      <th>n5_max</th>\n",
       "      <th>n6_max</th>\n",
       "      <th>n7_max</th>\n",
       "      <th>n4_min</th>\n",
       "      <th>n5_min</th>\n",
       "      <th>...</th>\n",
       "      <th>old_cc_label_9</th>\n",
       "      <th>old_cc_label_10</th>\n",
       "      <th>old_cc_label_11</th>\n",
       "      <th>old_cc_label_12</th>\n",
       "      <th>c5_mj</th>\n",
       "      <th>c6_mj</th>\n",
       "      <th>c7_mj</th>\n",
       "      <th>c56_mj</th>\n",
       "      <th>c57_mj</th>\n",
       "      <th>c67_mj</th>\n",
       "    </tr>\n",
       "    <tr>\n",
       "      <th>id</th>\n",
       "      <th></th>\n",
       "      <th></th>\n",
       "      <th></th>\n",
       "      <th></th>\n",
       "      <th></th>\n",
       "      <th></th>\n",
       "      <th></th>\n",
       "      <th></th>\n",
       "      <th></th>\n",
       "      <th></th>\n",
       "      <th></th>\n",
       "      <th></th>\n",
       "      <th></th>\n",
       "      <th></th>\n",
       "      <th></th>\n",
       "      <th></th>\n",
       "      <th></th>\n",
       "      <th></th>\n",
       "      <th></th>\n",
       "      <th></th>\n",
       "      <th></th>\n",
       "    </tr>\n",
       "  </thead>\n",
       "  <tbody>\n",
       "    <tr>\n",
       "      <th>84531</th>\n",
       "      <td>0.195438</td>\n",
       "      <td>1.139846</td>\n",
       "      <td>0.304600</td>\n",
       "      <td>0.202061</td>\n",
       "      <td>0.532983</td>\n",
       "      <td>0.861634</td>\n",
       "      <td>0.330873</td>\n",
       "      <td>0.051889</td>\n",
       "      <td>-0.282216</td>\n",
       "      <td>0.589456</td>\n",
       "      <td>...</td>\n",
       "      <td>-5.199338</td>\n",
       "      <td>-5.199338</td>\n",
       "      <td>5.199338</td>\n",
       "      <td>-5.199338</td>\n",
       "      <td>14</td>\n",
       "      <td>-10</td>\n",
       "      <td>48</td>\n",
       "      <td>14-10</td>\n",
       "      <td>1448</td>\n",
       "      <td>-1048</td>\n",
       "    </tr>\n",
       "    <tr>\n",
       "      <th>25895</th>\n",
       "      <td>-1.049161</td>\n",
       "      <td>-0.302699</td>\n",
       "      <td>-0.260304</td>\n",
       "      <td>-0.098846</td>\n",
       "      <td>-0.228994</td>\n",
       "      <td>-1.067571</td>\n",
       "      <td>0.492703</td>\n",
       "      <td>-0.253041</td>\n",
       "      <td>0.282216</td>\n",
       "      <td>-5.199338</td>\n",
       "      <td>...</td>\n",
       "      <td>-5.199338</td>\n",
       "      <td>5.199338</td>\n",
       "      <td>-5.199338</td>\n",
       "      <td>-5.199338</td>\n",
       "      <td>0</td>\n",
       "      <td>-10</td>\n",
       "      <td>0</td>\n",
       "      <td>0-10</td>\n",
       "      <td>0</td>\n",
       "      <td>-100</td>\n",
       "    </tr>\n",
       "    <tr>\n",
       "      <th>71109</th>\n",
       "      <td>-0.758637</td>\n",
       "      <td>-0.479887</td>\n",
       "      <td>-0.181057</td>\n",
       "      <td>0.366419</td>\n",
       "      <td>0.141637</td>\n",
       "      <td>0.355490</td>\n",
       "      <td>0.330873</td>\n",
       "      <td>0.214803</td>\n",
       "      <td>-0.139710</td>\n",
       "      <td>-5.199338</td>\n",
       "      <td>...</td>\n",
       "      <td>-5.199338</td>\n",
       "      <td>5.199338</td>\n",
       "      <td>-5.199338</td>\n",
       "      <td>-5.199338</td>\n",
       "      <td>0</td>\n",
       "      <td>-10</td>\n",
       "      <td>0</td>\n",
       "      <td>0-10</td>\n",
       "      <td>0</td>\n",
       "      <td>-100</td>\n",
       "    </tr>\n",
       "    <tr>\n",
       "      <th>64666</th>\n",
       "      <td>-0.234318</td>\n",
       "      <td>0.292557</td>\n",
       "      <td>0.695447</td>\n",
       "      <td>0.240538</td>\n",
       "      <td>0.149349</td>\n",
       "      <td>1.290649</td>\n",
       "      <td>-0.313866</td>\n",
       "      <td>0.091069</td>\n",
       "      <td>-0.355490</td>\n",
       "      <td>0.589456</td>\n",
       "      <td>...</td>\n",
       "      <td>-5.199338</td>\n",
       "      <td>5.199338</td>\n",
       "      <td>-5.199338</td>\n",
       "      <td>-5.199338</td>\n",
       "      <td>11</td>\n",
       "      <td>-10</td>\n",
       "      <td>57</td>\n",
       "      <td>11-10</td>\n",
       "      <td>1157</td>\n",
       "      <td>-1057</td>\n",
       "    </tr>\n",
       "    <tr>\n",
       "      <th>91813</th>\n",
       "      <td>1.227251</td>\n",
       "      <td>0.497574</td>\n",
       "      <td>0.019522</td>\n",
       "      <td>-1.448033</td>\n",
       "      <td>1.225417</td>\n",
       "      <td>1.290649</td>\n",
       "      <td>0.139710</td>\n",
       "      <td>-1.540556</td>\n",
       "      <td>-0.602249</td>\n",
       "      <td>-5.199338</td>\n",
       "      <td>...</td>\n",
       "      <td>-5.199338</td>\n",
       "      <td>-5.199338</td>\n",
       "      <td>-5.199338</td>\n",
       "      <td>5.199338</td>\n",
       "      <td>11</td>\n",
       "      <td>-10</td>\n",
       "      <td>54</td>\n",
       "      <td>11-10</td>\n",
       "      <td>1154</td>\n",
       "      <td>-1054</td>\n",
       "    </tr>\n",
       "  </tbody>\n",
       "</table>\n",
       "<p>5 rows × 39 columns</p>\n",
       "</div>"
      ],
      "text/plain": [
       "        n4_mean   n5_mean   n6_mean   n7_mean    n4_max    n5_max    n6_max  \\\n",
       "id                                                                            \n",
       "84531  0.195438  1.139846  0.304600  0.202061  0.532983  0.861634  0.330873   \n",
       "25895 -1.049161 -0.302699 -0.260304 -0.098846 -0.228994 -1.067571  0.492703   \n",
       "71109 -0.758637 -0.479887 -0.181057  0.366419  0.141637  0.355490  0.330873   \n",
       "64666 -0.234318  0.292557  0.695447  0.240538  0.149349  1.290649 -0.313866   \n",
       "91813  1.227251  0.497574  0.019522 -1.448033  1.225417  1.290649  0.139710   \n",
       "\n",
       "         n7_max    n4_min    n5_min  ...  old_cc_label_9  old_cc_label_10  \\\n",
       "id                                   ...                                    \n",
       "84531  0.051889 -0.282216  0.589456  ...       -5.199338        -5.199338   \n",
       "25895 -0.253041  0.282216 -5.199338  ...       -5.199338         5.199338   \n",
       "71109  0.214803 -0.139710 -5.199338  ...       -5.199338         5.199338   \n",
       "64666  0.091069 -0.355490  0.589456  ...       -5.199338         5.199338   \n",
       "91813 -1.540556 -0.602249 -5.199338  ...       -5.199338        -5.199338   \n",
       "\n",
       "       old_cc_label_11  old_cc_label_12  c5_mj  c6_mj  c7_mj  c56_mj  c57_mj  \\\n",
       "id                                                                             \n",
       "84531         5.199338        -5.199338     14    -10     48   14-10    1448   \n",
       "25895        -5.199338        -5.199338      0    -10      0    0-10       0   \n",
       "71109        -5.199338        -5.199338      0    -10      0    0-10       0   \n",
       "64666        -5.199338        -5.199338     11    -10     57   11-10    1157   \n",
       "91813        -5.199338         5.199338     11    -10     54   11-10    1154   \n",
       "\n",
       "       c67_mj  \n",
       "id             \n",
       "84531   -1048  \n",
       "25895    -100  \n",
       "71109    -100  \n",
       "64666   -1057  \n",
       "91813   -1054  \n",
       "\n",
       "[5 rows x 39 columns]"
      ]
     },
     "execution_count": 2,
     "metadata": {},
     "output_type": "execute_result"
    }
   ],
   "source": [
    "train_set = pd.merge(df_train, df_features, how='left', on='id')\n",
    "X_submit  = pd.merge(df_test, df_features, how='left', on='id')\n",
    "\n",
    "train_set.set_index('id', inplace=True)\n",
    "X_submit.set_index('id', inplace=True)\n",
    "\n",
    "X = train_set.drop('label', axis=1)\n",
    "y = train_set[['label']]\n",
    "\n",
    "X.head()"
   ]
  },
  {
   "cell_type": "code",
   "execution_count": 3,
   "metadata": {},
   "outputs": [
    {
     "data": {
      "text/plain": [
       "13"
      ]
     },
     "execution_count": 3,
     "metadata": {},
     "output_type": "execute_result"
    }
   ],
   "source": [
    "X_train, X_test, y_train, y_test = train_test_split(X, y, test_size=0.2, stratify=y, random_state=100)\n",
    "\n",
    "len(Counter(y_test.values.reshape(1,-1)[0]))"
   ]
  },
  {
   "cell_type": "code",
   "execution_count": 4,
   "metadata": {},
   "outputs": [
    {
     "name": "stdout",
     "output_type": "stream",
     "text": [
      "<class 'pandas.core.frame.DataFrame'>\n",
      "Int64Index: 100000 entries, 84531 to 35548\n",
      "Data columns (total 39 columns):\n",
      "n4_mean            100000 non-null float64\n",
      "n5_mean            100000 non-null float64\n",
      "n6_mean            100000 non-null float64\n",
      "n7_mean            100000 non-null float64\n",
      "n4_max             100000 non-null float64\n",
      "n5_max             100000 non-null float64\n",
      "n6_max             100000 non-null float64\n",
      "n7_max             100000 non-null float64\n",
      "n4_min             100000 non-null float64\n",
      "n5_min             100000 non-null float64\n",
      "n6_min             100000 non-null float64\n",
      "n7_min             100000 non-null float64\n",
      "n4_median          100000 non-null float64\n",
      "n5_median          100000 non-null float64\n",
      "n6_median          100000 non-null float64\n",
      "n7_median          100000 non-null float64\n",
      "n4_std             100000 non-null float64\n",
      "n5_std             100000 non-null float64\n",
      "n6_std             100000 non-null float64\n",
      "n7_std             100000 non-null float64\n",
      "old_cc_label_0     100000 non-null float64\n",
      "old_cc_label_1     100000 non-null float64\n",
      "old_cc_label_2     100000 non-null float64\n",
      "old_cc_label_3     100000 non-null float64\n",
      "old_cc_label_4     100000 non-null float64\n",
      "old_cc_label_5     100000 non-null float64\n",
      "old_cc_label_6     100000 non-null float64\n",
      "old_cc_label_7     100000 non-null float64\n",
      "old_cc_label_8     100000 non-null float64\n",
      "old_cc_label_9     100000 non-null float64\n",
      "old_cc_label_10    100000 non-null float64\n",
      "old_cc_label_11    100000 non-null float64\n",
      "old_cc_label_12    100000 non-null float64\n",
      "c5_mj              100000 non-null int64\n",
      "c6_mj              100000 non-null int64\n",
      "c7_mj              100000 non-null int64\n",
      "c56_mj             100000 non-null object\n",
      "c57_mj             100000 non-null int64\n",
      "c67_mj             100000 non-null int64\n",
      "dtypes: float64(33), int64(5), object(1)\n",
      "memory usage: 30.5+ MB\n"
     ]
    }
   ],
   "source": [
    "X.info()"
   ]
  },
  {
   "cell_type": "code",
   "execution_count": 5,
   "metadata": {},
   "outputs": [
    {
     "data": {
      "text/plain": [
       "(100000, 39)"
      ]
     },
     "execution_count": 5,
     "metadata": {},
     "output_type": "execute_result"
    },
    {
     "data": {
      "text/plain": [
       "(53240, 39)"
      ]
     },
     "execution_count": 5,
     "metadata": {},
     "output_type": "execute_result"
    },
    {
     "data": {
      "text/plain": [
       "(80000, 39)"
      ]
     },
     "execution_count": 5,
     "metadata": {},
     "output_type": "execute_result"
    },
    {
     "data": {
      "text/plain": [
       "(20000, 39)"
      ]
     },
     "execution_count": 5,
     "metadata": {},
     "output_type": "execute_result"
    }
   ],
   "source": [
    "X.shape\n",
    "X_submit.shape\n",
    "X_train.shape\n",
    "X_test.shape"
   ]
  },
  {
   "cell_type": "code",
   "execution_count": 6,
   "metadata": {},
   "outputs": [],
   "source": [
    "X_submit.to_csv('./data/401_X_submit.csv', index=True)\n",
    "X_train.to_csv('./data/401_X_train.csv', index=True)\n",
    "X_test.to_csv('./data/401_X_test.csv', index=True)"
   ]
  },
  {
   "cell_type": "code",
   "execution_count": 7,
   "metadata": {},
   "outputs": [],
   "source": [
    "y_train.to_csv('./data/401_y_train.csv', index=True)\n",
    "y_test.to_csv('./data/401_y_test.csv', index=True)"
   ]
  }
 ],
 "metadata": {
  "kernelspec": {
   "display_name": "Python 3",
   "language": "python",
   "name": "python3"
  },
  "language_info": {
   "codemirror_mode": {
    "name": "ipython",
    "version": 3
   },
   "file_extension": ".py",
   "mimetype": "text/x-python",
   "name": "python",
   "nbconvert_exporter": "python",
   "pygments_lexer": "ipython3",
   "version": "3.6.8"
  }
 },
 "nbformat": 4,
 "nbformat_minor": 4
}
