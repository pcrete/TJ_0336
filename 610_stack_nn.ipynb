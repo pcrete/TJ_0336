{
 "cells": [
  {
   "cell_type": "markdown",
   "metadata": {},
   "source": [
    "# Neural Network Training"
   ]
  },
  {
   "cell_type": "code",
   "execution_count": null,
   "metadata": {},
   "outputs": [],
   "source": [
    "import pandas as pd\n",
    "import numpy as np\n",
    "import tensorflow as tf\n",
    "\n",
    "from sklearn import preprocessing\n",
    "from sklearn.model_selection import train_test_split, cross_val_score, KFold\n",
    "from utils.Block import Model\n",
    "from utils.train import train, to_tensor\n",
    "from utils.metrics import modified_smape\n",
    "\n",
    "gpus = tf.config.experimental.list_physical_devices('GPU')\n",
    "\n",
    "tf.config.experimental.set_virtual_device_configuration(\n",
    "    gpus[0], \n",
    "    [tf.config.experimental.VirtualDeviceConfiguration(memory_limit=1024*5)]\n",
    ")\n",
    "\n",
    "print(\"Num GPUs Available: \", len(tf.config.experimental.list_physical_devices('GPU')))\n",
    "\n",
    "X_submit = pd.concat([ \n",
    "    pd.read_csv('./data/300_X_submit.csv'), \n",
    "    pd.read_csv('./data/400_X_submit_preds.csv', header=None)\n",
    "], axis=1)\n",
    "\n",
    "X_train = pd.concat([\n",
    "    pd.read_csv('./data/300_X_train.csv'), \n",
    "    pd.read_csv('./data/400_X_train_preds.csv', header=None)\n",
    "], axis=1)\n",
    "\n",
    "X_test = pd.concat([\n",
    "    pd.read_csv('./data/300_X_test.csv'), \n",
    "    pd.read_csv('./data/400_X_test_preds.csv', header=None)\n",
    "], axis=1)\n",
    "\n",
    "X_submit = X_submit.set_index('id')\n",
    "X_train  = X_train.set_index('id')\n",
    "X_test   = X_test.set_index('id')\n",
    "\n",
    "y_submit = pd.read_csv('./data/004_test.csv', index_col='id')\n",
    "y_train = pd.read_csv('./data/400_y_train.csv', index_col='id')\n",
    "y_test = pd.read_csv('./data/400_y_test.csv', index_col='id')\n",
    "\n",
    "X = X_train.values\n",
    "y = y_train.values\n",
    "\n",
    "X.shape"
   ]
  },
  {
   "cell_type": "markdown",
   "metadata": {},
   "source": [
    "## Train-validation split"
   ]
  },
  {
   "cell_type": "code",
   "execution_count": null,
   "metadata": {},
   "outputs": [],
   "source": [
    "model = Model(hiddens=[176,128])\n",
    "\n",
    "X_train, X_valid, y_train, y_valid = train_test_split(X, y, test_size=0.11111, random_state=42)\n",
    "X_train, y_train, X_valid, y_valid = to_tensor(X_train, y_train, X_valid, y_valid)"
   ]
  },
  {
   "cell_type": "code",
   "execution_count": null,
   "metadata": {},
   "outputs": [],
   "source": [
    "model = train(model, X_train, y_train, X_valid, y_valid, batch_size=1024, lr=0.001)"
   ]
  },
  {
   "cell_type": "markdown",
   "metadata": {},
   "source": [
    "## Save model"
   ]
  },
  {
   "cell_type": "code",
   "execution_count": null,
   "metadata": {},
   "outputs": [],
   "source": [
    "model_name = '061_stack_nn_176.128'\n",
    "model.save_weights('M_336/checkpoints/'+model_name+'/model')"
   ]
  },
  {
   "cell_type": "markdown",
   "metadata": {},
   "source": [
    "# Inferencing\n",
    "## Load model"
   ]
  },
  {
   "cell_type": "code",
   "execution_count": null,
   "metadata": {},
   "outputs": [],
   "source": [
    "model_name = '610_stack_nn_176.128'\n",
    "latest = tf.train.latest_checkpoint('M_336/checkpoints/'+model_name)\n",
    "model.load_weights(latest)\n",
    "modified_smape(np.squeeze(y_test.values), np.squeeze(np.array(model(X_test.values))))"
   ]
  },
  {
   "cell_type": "markdown",
   "metadata": {},
   "source": [
    "## Predict test & submit"
   ]
  },
  {
   "cell_type": "code",
   "execution_count": null,
   "metadata": {},
   "outputs": [],
   "source": [
    "X_test_pred   = np.squeeze(np.array(model(X_test.values)))\n",
    "X_submit_pred = np.squeeze(np.array(model(X_submit.values)))\n",
    "\n",
    "X_test_pred.shape"
   ]
  },
  {
   "cell_type": "code",
   "execution_count": null,
   "metadata": {},
   "outputs": [],
   "source": [
    "np.savetxt('data/061_X_test_stack_nn_176.128_pred.csv'    , X_test_pred  , delimiter=\",\")\n",
    "np.savetxt('data/061_X_submit_stack_nn_176.128_pred.csv'  , X_submit_pred, delimiter=\",\")"
   ]
  }
 ],
 "metadata": {
  "kernelspec": {
   "display_name": "Python 3",
   "language": "python",
   "name": "python3"
  },
  "language_info": {
   "codemirror_mode": {
    "name": "ipython",
    "version": 3
   },
   "file_extension": ".py",
   "mimetype": "text/x-python",
   "name": "python",
   "nbconvert_exporter": "python",
   "pygments_lexer": "ipython3",
   "version": "3.6.8"
  }
 },
 "nbformat": 4,
 "nbformat_minor": 4
}
