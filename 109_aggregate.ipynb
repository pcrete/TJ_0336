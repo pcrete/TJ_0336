{
 "cells": [
  {
   "cell_type": "markdown",
   "metadata": {},
   "source": [
    "# Overall"
   ]
  },
  {
   "cell_type": "code",
   "execution_count": 1,
   "metadata": {},
   "outputs": [],
   "source": [
    "import pandas as pd\n",
    "import matplotlib.pyplot as plt\n",
    "import numpy as np\n",
    "import seaborn as sns\n",
    "import qgrid\n",
    "\n",
    "from collections import Counter\n",
    "from IPython.core.interactiveshell import InteractiveShell\n",
    "\n",
    "InteractiveShell.ast_node_interactivity = 'all'"
   ]
  },
  {
   "cell_type": "code",
   "execution_count": 2,
   "metadata": {},
   "outputs": [],
   "source": [
    "df_dm    = pd.read_csv('./data/001_demo.csv')\n",
    "df_txn   = pd.read_csv('./data/002_txn.csv')\n",
    "df_train = pd.read_csv('./data/003_train.csv')\n",
    "df_test  = pd.read_csv('./data/004_test.csv')"
   ]
  },
  {
   "cell_type": "code",
   "execution_count": 46,
   "metadata": {},
   "outputs": [
    {
     "data": {
      "text/html": [
       "<div>\n",
       "<style scoped>\n",
       "    .dataframe tbody tr th:only-of-type {\n",
       "        vertical-align: middle;\n",
       "    }\n",
       "\n",
       "    .dataframe tbody tr th {\n",
       "        vertical-align: top;\n",
       "    }\n",
       "\n",
       "    .dataframe thead th {\n",
       "        text-align: right;\n",
       "    }\n",
       "</style>\n",
       "<table border=\"1\" class=\"dataframe\">\n",
       "  <thead>\n",
       "    <tr style=\"text-align: right;\">\n",
       "      <th></th>\n",
       "      <th>id</th>\n",
       "      <th>c0</th>\n",
       "      <th>c1</th>\n",
       "      <th>c2</th>\n",
       "      <th>c3</th>\n",
       "      <th>c4</th>\n",
       "      <th>n0</th>\n",
       "      <th>n1</th>\n",
       "      <th>n2</th>\n",
       "    </tr>\n",
       "  </thead>\n",
       "  <tbody>\n",
       "    <tr>\n",
       "      <th>0</th>\n",
       "      <td>76371</td>\n",
       "      <td>2</td>\n",
       "      <td>7.0</td>\n",
       "      <td>97</td>\n",
       "      <td>0</td>\n",
       "      <td>1</td>\n",
       "      <td>42</td>\n",
       "      <td>NaN</td>\n",
       "      <td>40000.0</td>\n",
       "    </tr>\n",
       "    <tr>\n",
       "      <th>1</th>\n",
       "      <td>44326</td>\n",
       "      <td>2</td>\n",
       "      <td>4.0</td>\n",
       "      <td>97</td>\n",
       "      <td>1</td>\n",
       "      <td>1</td>\n",
       "      <td>47</td>\n",
       "      <td>10000.0</td>\n",
       "      <td>175000.0</td>\n",
       "    </tr>\n",
       "    <tr>\n",
       "      <th>2</th>\n",
       "      <td>33717</td>\n",
       "      <td>1</td>\n",
       "      <td>3.0</td>\n",
       "      <td>97</td>\n",
       "      <td>1</td>\n",
       "      <td>1</td>\n",
       "      <td>49</td>\n",
       "      <td>122000.0</td>\n",
       "      <td>85000.0</td>\n",
       "    </tr>\n",
       "    <tr>\n",
       "      <th>3</th>\n",
       "      <td>96078</td>\n",
       "      <td>2</td>\n",
       "      <td>4.0</td>\n",
       "      <td>98</td>\n",
       "      <td>1</td>\n",
       "      <td>0</td>\n",
       "      <td>37</td>\n",
       "      <td>95000.0</td>\n",
       "      <td>NaN</td>\n",
       "    </tr>\n",
       "    <tr>\n",
       "      <th>4</th>\n",
       "      <td>13591</td>\n",
       "      <td>2</td>\n",
       "      <td>3.0</td>\n",
       "      <td>97</td>\n",
       "      <td>0</td>\n",
       "      <td>1</td>\n",
       "      <td>40</td>\n",
       "      <td>NaN</td>\n",
       "      <td>40000.0</td>\n",
       "    </tr>\n",
       "  </tbody>\n",
       "</table>\n",
       "</div>"
      ],
      "text/plain": [
       "      id  c0   c1  c2  c3  c4  n0        n1        n2\n",
       "0  76371   2  7.0  97   0   1  42       NaN   40000.0\n",
       "1  44326   2  4.0  97   1   1  47   10000.0  175000.0\n",
       "2  33717   1  3.0  97   1   1  49  122000.0   85000.0\n",
       "3  96078   2  4.0  98   1   0  37   95000.0       NaN\n",
       "4  13591   2  3.0  97   0   1  40       NaN   40000.0"
      ]
     },
     "execution_count": 46,
     "metadata": {},
     "output_type": "execute_result"
    }
   ],
   "source": [
    "df_dm.head()"
   ]
  },
  {
   "cell_type": "code",
   "execution_count": 48,
   "metadata": {},
   "outputs": [
    {
     "data": {
      "text/plain": [
       "id     0.000000\n",
       "c0     0.000000\n",
       "c1     0.079614\n",
       "c2     0.000000\n",
       "c3     0.000000\n",
       "c4     0.000000\n",
       "n0     0.000000\n",
       "n1    77.128687\n",
       "n2     3.176064\n",
       "dtype: float64"
      ]
     },
     "execution_count": 48,
     "metadata": {},
     "output_type": "execute_result"
    }
   ],
   "source": [
    "df_dm.isna().sum()*100/len(df_dm)"
   ]
  },
  {
   "cell_type": "code",
   "execution_count": 4,
   "metadata": {},
   "outputs": [
    {
     "data": {
      "text/html": [
       "<div>\n",
       "<style scoped>\n",
       "    .dataframe tbody tr th:only-of-type {\n",
       "        vertical-align: middle;\n",
       "    }\n",
       "\n",
       "    .dataframe tbody tr th {\n",
       "        vertical-align: top;\n",
       "    }\n",
       "\n",
       "    .dataframe thead th {\n",
       "        text-align: right;\n",
       "    }\n",
       "</style>\n",
       "<table border=\"1\" class=\"dataframe\">\n",
       "  <thead>\n",
       "    <tr style=\"text-align: right;\">\n",
       "      <th></th>\n",
       "      <th>id</th>\n",
       "      <th>label</th>\n",
       "    </tr>\n",
       "  </thead>\n",
       "  <tbody>\n",
       "    <tr>\n",
       "      <th>0</th>\n",
       "      <td>84531</td>\n",
       "      <td>3</td>\n",
       "    </tr>\n",
       "    <tr>\n",
       "      <th>1</th>\n",
       "      <td>25895</td>\n",
       "      <td>0</td>\n",
       "    </tr>\n",
       "    <tr>\n",
       "      <th>2</th>\n",
       "      <td>71109</td>\n",
       "      <td>2</td>\n",
       "    </tr>\n",
       "    <tr>\n",
       "      <th>3</th>\n",
       "      <td>64666</td>\n",
       "      <td>4</td>\n",
       "    </tr>\n",
       "    <tr>\n",
       "      <th>4</th>\n",
       "      <td>91813</td>\n",
       "      <td>8</td>\n",
       "    </tr>\n",
       "  </tbody>\n",
       "</table>\n",
       "</div>"
      ],
      "text/plain": [
       "      id  label\n",
       "0  84531      3\n",
       "1  25895      0\n",
       "2  71109      2\n",
       "3  64666      4\n",
       "4  91813      8"
      ]
     },
     "execution_count": 4,
     "metadata": {},
     "output_type": "execute_result"
    }
   ],
   "source": [
    "df_train.head()"
   ]
  },
  {
   "cell_type": "code",
   "execution_count": 5,
   "metadata": {},
   "outputs": [
    {
     "data": {
      "text/html": [
       "<div>\n",
       "<style scoped>\n",
       "    .dataframe tbody tr th:only-of-type {\n",
       "        vertical-align: middle;\n",
       "    }\n",
       "\n",
       "    .dataframe tbody tr th {\n",
       "        vertical-align: top;\n",
       "    }\n",
       "\n",
       "    .dataframe thead th {\n",
       "        text-align: right;\n",
       "    }\n",
       "</style>\n",
       "<table border=\"1\" class=\"dataframe\">\n",
       "  <thead>\n",
       "    <tr style=\"text-align: right;\">\n",
       "      <th></th>\n",
       "      <th>id</th>\n",
       "      <th>old_cc_no</th>\n",
       "      <th>old_cc_label</th>\n",
       "      <th>c5</th>\n",
       "      <th>c6</th>\n",
       "      <th>c7</th>\n",
       "      <th>n3</th>\n",
       "      <th>n4</th>\n",
       "      <th>n5</th>\n",
       "      <th>n6</th>\n",
       "      <th>n7</th>\n",
       "      <th>t0</th>\n",
       "    </tr>\n",
       "  </thead>\n",
       "  <tbody>\n",
       "    <tr>\n",
       "      <th>0</th>\n",
       "      <td>11592</td>\n",
       "      <td>256451</td>\n",
       "      <td>10</td>\n",
       "      <td>14</td>\n",
       "      <td>10</td>\n",
       "      <td>58</td>\n",
       "      <td>296</td>\n",
       "      <td>500</td>\n",
       "      <td>159</td>\n",
       "      <td>600</td>\n",
       "      <td>3801</td>\n",
       "      <td>SWENSENScJMtTTCe11162 SILOM COMPL</td>\n",
       "    </tr>\n",
       "    <tr>\n",
       "      <th>1</th>\n",
       "      <td>11592</td>\n",
       "      <td>256451</td>\n",
       "      <td>10</td>\n",
       "      <td>11</td>\n",
       "      <td>-10</td>\n",
       "      <td>53</td>\n",
       "      <td>218</td>\n",
       "      <td>500</td>\n",
       "      <td>97</td>\n",
       "      <td>800</td>\n",
       "      <td>3801</td>\n",
       "      <td>-7639876683691985984</td>\n",
       "    </tr>\n",
       "    <tr>\n",
       "      <th>2</th>\n",
       "      <td>11592</td>\n",
       "      <td>256451</td>\n",
       "      <td>10</td>\n",
       "      <td>12</td>\n",
       "      <td>-10</td>\n",
       "      <td>58</td>\n",
       "      <td>133</td>\n",
       "      <td>700</td>\n",
       "      <td>101</td>\n",
       "      <td>300</td>\n",
       "      <td>3801</td>\n",
       "      <td>-3379897237896068718</td>\n",
       "    </tr>\n",
       "    <tr>\n",
       "      <th>3</th>\n",
       "      <td>11592</td>\n",
       "      <td>256451</td>\n",
       "      <td>10</td>\n",
       "      <td>11</td>\n",
       "      <td>-10</td>\n",
       "      <td>80</td>\n",
       "      <td>340</td>\n",
       "      <td>4000</td>\n",
       "      <td>95</td>\n",
       "      <td>0</td>\n",
       "      <td>3801</td>\n",
       "      <td>-7973349235111278992</td>\n",
       "    </tr>\n",
       "    <tr>\n",
       "      <th>4</th>\n",
       "      <td>11592</td>\n",
       "      <td>256451</td>\n",
       "      <td>10</td>\n",
       "      <td>12</td>\n",
       "      <td>11</td>\n",
       "      <td>58</td>\n",
       "      <td>306</td>\n",
       "      <td>400</td>\n",
       "      <td>124</td>\n",
       "      <td>300</td>\n",
       "      <td>3801</td>\n",
       "      <td>SIZZLER eE0E2cECENTRAL RAMA 2)</td>\n",
       "    </tr>\n",
       "  </tbody>\n",
       "</table>\n",
       "</div>"
      ],
      "text/plain": [
       "      id  old_cc_no  old_cc_label  c5  c6  c7   n3    n4   n5   n6    n7  \\\n",
       "0  11592     256451            10  14  10  58  296   500  159  600  3801   \n",
       "1  11592     256451            10  11 -10  53  218   500   97  800  3801   \n",
       "2  11592     256451            10  12 -10  58  133   700  101  300  3801   \n",
       "3  11592     256451            10  11 -10  80  340  4000   95    0  3801   \n",
       "4  11592     256451            10  12  11  58  306   400  124  300  3801   \n",
       "\n",
       "                                  t0  \n",
       "0  SWENSENScJMtTTCe11162 SILOM COMPL  \n",
       "1               -7639876683691985984  \n",
       "2               -3379897237896068718  \n",
       "3               -7973349235111278992  \n",
       "4     SIZZLER eE0E2cECENTRAL RAMA 2)  "
      ]
     },
     "execution_count": 5,
     "metadata": {},
     "output_type": "execute_result"
    }
   ],
   "source": [
    "df_txn.head()"
   ]
  },
  {
   "cell_type": "code",
   "execution_count": 8,
   "metadata": {},
   "outputs": [],
   "source": [
    "columns = ['c5','c6','c7','n3','n4', 'n5', 'n6', 'n7', ]\n",
    "df_txn_label = pd.merge(df_train, df_txn.drop(columns,axis=1), on='id')"
   ]
  },
  {
   "cell_type": "code",
   "execution_count": 9,
   "metadata": {},
   "outputs": [
    {
     "data": {
      "text/html": [
       "<div>\n",
       "<style scoped>\n",
       "    .dataframe tbody tr th:only-of-type {\n",
       "        vertical-align: middle;\n",
       "    }\n",
       "\n",
       "    .dataframe tbody tr th {\n",
       "        vertical-align: top;\n",
       "    }\n",
       "\n",
       "    .dataframe thead th {\n",
       "        text-align: right;\n",
       "    }\n",
       "</style>\n",
       "<table border=\"1\" class=\"dataframe\">\n",
       "  <thead>\n",
       "    <tr style=\"text-align: right;\">\n",
       "      <th></th>\n",
       "      <th>id</th>\n",
       "      <th>label</th>\n",
       "      <th>old_cc_no</th>\n",
       "      <th>old_cc_label</th>\n",
       "      <th>t0</th>\n",
       "    </tr>\n",
       "  </thead>\n",
       "  <tbody>\n",
       "    <tr>\n",
       "      <th>0</th>\n",
       "      <td>84531</td>\n",
       "      <td>3</td>\n",
       "      <td>262011</td>\n",
       "      <td>11</td>\n",
       "      <td>MEA ELECTRICITY PAYMENT1E1AJ1</td>\n",
       "    </tr>\n",
       "    <tr>\n",
       "      <th>1</th>\n",
       "      <td>84531</td>\n",
       "      <td>3</td>\n",
       "      <td>262011</td>\n",
       "      <td>11</td>\n",
       "      <td>-4436277728757949526</td>\n",
       "    </tr>\n",
       "    <tr>\n",
       "      <th>2</th>\n",
       "      <td>84531</td>\n",
       "      <td>3</td>\n",
       "      <td>262011</td>\n",
       "      <td>11</td>\n",
       "      <td>ADVANCED WIRELESS NETW92MmtCeem61</td>\n",
       "    </tr>\n",
       "    <tr>\n",
       "      <th>3</th>\n",
       "      <td>84531</td>\n",
       "      <td>3</td>\n",
       "      <td>262011</td>\n",
       "      <td>11</td>\n",
       "      <td>MEA ELECTRICITY PAYMENTeEm2c0tc</td>\n",
       "    </tr>\n",
       "    <tr>\n",
       "      <th>4</th>\n",
       "      <td>84531</td>\n",
       "      <td>3</td>\n",
       "      <td>262011</td>\n",
       "      <td>11</td>\n",
       "      <td>LazadaJ9HaEmj2e</td>\n",
       "    </tr>\n",
       "  </tbody>\n",
       "</table>\n",
       "</div>"
      ],
      "text/plain": [
       "      id  label  old_cc_no  old_cc_label                                 t0\n",
       "0  84531      3     262011            11      MEA ELECTRICITY PAYMENT1E1AJ1\n",
       "1  84531      3     262011            11               -4436277728757949526\n",
       "2  84531      3     262011            11  ADVANCED WIRELESS NETW92MmtCeem61\n",
       "3  84531      3     262011            11    MEA ELECTRICITY PAYMENTeEm2c0tc\n",
       "4  84531      3     262011            11                    LazadaJ9HaEmj2e"
      ]
     },
     "execution_count": 9,
     "metadata": {},
     "output_type": "execute_result"
    }
   ],
   "source": [
    "df_txn_label.head()"
   ]
  },
  {
   "cell_type": "code",
   "execution_count": 19,
   "metadata": {},
   "outputs": [],
   "source": [
    "df_txn_label['readable'] = df_txn_label['t0'].str.contains('[A-Z]+')"
   ]
  },
  {
   "cell_type": "code",
   "execution_count": 20,
   "metadata": {},
   "outputs": [
    {
     "data": {
      "text/html": [
       "<div>\n",
       "<style scoped>\n",
       "    .dataframe tbody tr th:only-of-type {\n",
       "        vertical-align: middle;\n",
       "    }\n",
       "\n",
       "    .dataframe tbody tr th {\n",
       "        vertical-align: top;\n",
       "    }\n",
       "\n",
       "    .dataframe thead th {\n",
       "        text-align: right;\n",
       "    }\n",
       "</style>\n",
       "<table border=\"1\" class=\"dataframe\">\n",
       "  <thead>\n",
       "    <tr style=\"text-align: right;\">\n",
       "      <th></th>\n",
       "      <th>id</th>\n",
       "      <th>label</th>\n",
       "      <th>old_cc_no</th>\n",
       "      <th>old_cc_label</th>\n",
       "      <th>t0</th>\n",
       "      <th>readable</th>\n",
       "    </tr>\n",
       "  </thead>\n",
       "  <tbody>\n",
       "    <tr>\n",
       "      <th>0</th>\n",
       "      <td>84531</td>\n",
       "      <td>3</td>\n",
       "      <td>262011</td>\n",
       "      <td>11</td>\n",
       "      <td>MEA ELECTRICITY PAYMENT1E1AJ1</td>\n",
       "      <td>True</td>\n",
       "    </tr>\n",
       "    <tr>\n",
       "      <th>1</th>\n",
       "      <td>84531</td>\n",
       "      <td>3</td>\n",
       "      <td>262011</td>\n",
       "      <td>11</td>\n",
       "      <td>-4436277728757949526</td>\n",
       "      <td>False</td>\n",
       "    </tr>\n",
       "    <tr>\n",
       "      <th>2</th>\n",
       "      <td>84531</td>\n",
       "      <td>3</td>\n",
       "      <td>262011</td>\n",
       "      <td>11</td>\n",
       "      <td>ADVANCED WIRELESS NETW92MmtCeem61</td>\n",
       "      <td>True</td>\n",
       "    </tr>\n",
       "    <tr>\n",
       "      <th>3</th>\n",
       "      <td>84531</td>\n",
       "      <td>3</td>\n",
       "      <td>262011</td>\n",
       "      <td>11</td>\n",
       "      <td>MEA ELECTRICITY PAYMENTeEm2c0tc</td>\n",
       "      <td>True</td>\n",
       "    </tr>\n",
       "    <tr>\n",
       "      <th>4</th>\n",
       "      <td>84531</td>\n",
       "      <td>3</td>\n",
       "      <td>262011</td>\n",
       "      <td>11</td>\n",
       "      <td>LazadaJ9HaEmj2e</td>\n",
       "      <td>True</td>\n",
       "    </tr>\n",
       "  </tbody>\n",
       "</table>\n",
       "</div>"
      ],
      "text/plain": [
       "      id  label  old_cc_no  old_cc_label                                 t0  \\\n",
       "0  84531      3     262011            11      MEA ELECTRICITY PAYMENT1E1AJ1   \n",
       "1  84531      3     262011            11               -4436277728757949526   \n",
       "2  84531      3     262011            11  ADVANCED WIRELESS NETW92MmtCeem61   \n",
       "3  84531      3     262011            11    MEA ELECTRICITY PAYMENTeEm2c0tc   \n",
       "4  84531      3     262011            11                    LazadaJ9HaEmj2e   \n",
       "\n",
       "   readable  \n",
       "0      True  \n",
       "1     False  \n",
       "2      True  \n",
       "3      True  \n",
       "4      True  "
      ]
     },
     "execution_count": 20,
     "metadata": {},
     "output_type": "execute_result"
    }
   ],
   "source": [
    "df_txn_label.head()"
   ]
  },
  {
   "cell_type": "code",
   "execution_count": 21,
   "metadata": {},
   "outputs": [
    {
     "data": {
      "text/html": [
       "<div>\n",
       "<style scoped>\n",
       "    .dataframe tbody tr th:only-of-type {\n",
       "        vertical-align: middle;\n",
       "    }\n",
       "\n",
       "    .dataframe tbody tr th {\n",
       "        vertical-align: top;\n",
       "    }\n",
       "\n",
       "    .dataframe thead th {\n",
       "        text-align: right;\n",
       "    }\n",
       "</style>\n",
       "<table border=\"1\" class=\"dataframe\">\n",
       "  <thead>\n",
       "    <tr style=\"text-align: right;\">\n",
       "      <th></th>\n",
       "      <th>label</th>\n",
       "      <th>old_cc_no</th>\n",
       "      <th>old_cc_label</th>\n",
       "      <th>readable</th>\n",
       "    </tr>\n",
       "    <tr>\n",
       "      <th>id</th>\n",
       "      <th></th>\n",
       "      <th></th>\n",
       "      <th></th>\n",
       "      <th></th>\n",
       "    </tr>\n",
       "  </thead>\n",
       "  <tbody>\n",
       "    <tr>\n",
       "      <th>1</th>\n",
       "      <td>37440</td>\n",
       "      <td>26401853</td>\n",
       "      <td>0</td>\n",
       "      <td>2.0</td>\n",
       "    </tr>\n",
       "    <tr>\n",
       "      <th>2</th>\n",
       "      <td>30732</td>\n",
       "      <td>324253359</td>\n",
       "      <td>25610</td>\n",
       "      <td>123.0</td>\n",
       "    </tr>\n",
       "    <tr>\n",
       "      <th>3</th>\n",
       "      <td>9964</td>\n",
       "      <td>15955842</td>\n",
       "      <td>11390</td>\n",
       "      <td>38.0</td>\n",
       "    </tr>\n",
       "    <tr>\n",
       "      <th>4</th>\n",
       "      <td>25884</td>\n",
       "      <td>574033782</td>\n",
       "      <td>21570</td>\n",
       "      <td>0.0</td>\n",
       "    </tr>\n",
       "    <tr>\n",
       "      <th>5</th>\n",
       "      <td>8164</td>\n",
       "      <td>147098952</td>\n",
       "      <td>14287</td>\n",
       "      <td>48.0</td>\n",
       "    </tr>\n",
       "  </tbody>\n",
       "</table>\n",
       "</div>"
      ],
      "text/plain": [
       "    label  old_cc_no  old_cc_label  readable\n",
       "id                                          \n",
       "1   37440   26401853             0       2.0\n",
       "2   30732  324253359         25610     123.0\n",
       "3    9964   15955842         11390      38.0\n",
       "4   25884  574033782         21570       0.0\n",
       "5    8164  147098952         14287      48.0"
      ]
     },
     "execution_count": 21,
     "metadata": {},
     "output_type": "execute_result"
    }
   ],
   "source": [
    "tmp = df_txn_label.groupby('id').sum()\n",
    "tmp.head()"
   ]
  },
  {
   "cell_type": "code",
   "execution_count": 24,
   "metadata": {},
   "outputs": [],
   "source": [
    "tmp[['readable']].to_csv('./data/100_n_readable.csv')"
   ]
  },
  {
   "cell_type": "code",
   "execution_count": 29,
   "metadata": {},
   "outputs": [],
   "source": [
    "df = pd.merge(df_dm, tmp[['readable']].reset_index(), on='id')"
   ]
  },
  {
   "cell_type": "code",
   "execution_count": 30,
   "metadata": {},
   "outputs": [],
   "source": [
    "df = pd.merge(df, df_train, on='id')"
   ]
  },
  {
   "cell_type": "code",
   "execution_count": 31,
   "metadata": {},
   "outputs": [
    {
     "data": {
      "text/html": [
       "<div>\n",
       "<style scoped>\n",
       "    .dataframe tbody tr th:only-of-type {\n",
       "        vertical-align: middle;\n",
       "    }\n",
       "\n",
       "    .dataframe tbody tr th {\n",
       "        vertical-align: top;\n",
       "    }\n",
       "\n",
       "    .dataframe thead th {\n",
       "        text-align: right;\n",
       "    }\n",
       "</style>\n",
       "<table border=\"1\" class=\"dataframe\">\n",
       "  <thead>\n",
       "    <tr style=\"text-align: right;\">\n",
       "      <th></th>\n",
       "      <th>id</th>\n",
       "      <th>c0</th>\n",
       "      <th>c1</th>\n",
       "      <th>c2</th>\n",
       "      <th>c3</th>\n",
       "      <th>c4</th>\n",
       "      <th>n0</th>\n",
       "      <th>n1</th>\n",
       "      <th>n2</th>\n",
       "      <th>readable</th>\n",
       "      <th>label</th>\n",
       "    </tr>\n",
       "  </thead>\n",
       "  <tbody>\n",
       "    <tr>\n",
       "      <th>0</th>\n",
       "      <td>76371</td>\n",
       "      <td>2</td>\n",
       "      <td>7.0</td>\n",
       "      <td>97</td>\n",
       "      <td>0</td>\n",
       "      <td>1</td>\n",
       "      <td>42</td>\n",
       "      <td>NaN</td>\n",
       "      <td>40000.0</td>\n",
       "      <td>32.0</td>\n",
       "      <td>4</td>\n",
       "    </tr>\n",
       "    <tr>\n",
       "      <th>1</th>\n",
       "      <td>44326</td>\n",
       "      <td>2</td>\n",
       "      <td>4.0</td>\n",
       "      <td>97</td>\n",
       "      <td>1</td>\n",
       "      <td>1</td>\n",
       "      <td>47</td>\n",
       "      <td>10000.0</td>\n",
       "      <td>175000.0</td>\n",
       "      <td>38.0</td>\n",
       "      <td>12</td>\n",
       "    </tr>\n",
       "    <tr>\n",
       "      <th>2</th>\n",
       "      <td>33717</td>\n",
       "      <td>1</td>\n",
       "      <td>3.0</td>\n",
       "      <td>97</td>\n",
       "      <td>1</td>\n",
       "      <td>1</td>\n",
       "      <td>49</td>\n",
       "      <td>122000.0</td>\n",
       "      <td>85000.0</td>\n",
       "      <td>16.0</td>\n",
       "      <td>10</td>\n",
       "    </tr>\n",
       "    <tr>\n",
       "      <th>3</th>\n",
       "      <td>96078</td>\n",
       "      <td>2</td>\n",
       "      <td>4.0</td>\n",
       "      <td>98</td>\n",
       "      <td>1</td>\n",
       "      <td>0</td>\n",
       "      <td>37</td>\n",
       "      <td>95000.0</td>\n",
       "      <td>NaN</td>\n",
       "      <td>13.0</td>\n",
       "      <td>12</td>\n",
       "    </tr>\n",
       "    <tr>\n",
       "      <th>4</th>\n",
       "      <td>13591</td>\n",
       "      <td>2</td>\n",
       "      <td>3.0</td>\n",
       "      <td>97</td>\n",
       "      <td>0</td>\n",
       "      <td>1</td>\n",
       "      <td>40</td>\n",
       "      <td>NaN</td>\n",
       "      <td>40000.0</td>\n",
       "      <td>76.0</td>\n",
       "      <td>9</td>\n",
       "    </tr>\n",
       "  </tbody>\n",
       "</table>\n",
       "</div>"
      ],
      "text/plain": [
       "      id  c0   c1  c2  c3  c4  n0        n1        n2  readable  label\n",
       "0  76371   2  7.0  97   0   1  42       NaN   40000.0      32.0      4\n",
       "1  44326   2  4.0  97   1   1  47   10000.0  175000.0      38.0     12\n",
       "2  33717   1  3.0  97   1   1  49  122000.0   85000.0      16.0     10\n",
       "3  96078   2  4.0  98   1   0  37   95000.0       NaN      13.0     12\n",
       "4  13591   2  3.0  97   0   1  40       NaN   40000.0      76.0      9"
      ]
     },
     "execution_count": 31,
     "metadata": {},
     "output_type": "execute_result"
    }
   ],
   "source": [
    "df.head()"
   ]
  },
  {
   "cell_type": "code",
   "execution_count": 44,
   "metadata": {},
   "outputs": [
    {
     "data": {
      "text/plain": [
       "<seaborn.axisgrid.PairGrid at 0x7f84b5a1fba8>"
      ]
     },
     "execution_count": 44,
     "metadata": {},
     "output_type": "execute_result"
    },
    {
     "data": {
      "image/png": "[encoded data removed]",
      "text/plain": [
       "<Figure size 408.75x360 with 6 Axes>"
      ]
     },
     "metadata": {
      "needs_background": "light"
     },
     "output_type": "display_data"
    }
   ],
   "source": [
    "sns.pairplot(df.dropna(), vars=['readable', 'n0'], hue='label')"
   ]
  },
  {
   "cell_type": "code",
   "execution_count": 50,
   "metadata": {},
   "outputs": [
    {
     "data": {
      "text/plain": [
       "<seaborn.axisgrid.PairGrid at 0x7f84b60cf080>"
      ]
     },
     "execution_count": 50,
     "metadata": {},
     "output_type": "execute_result"
    },
    {
     "data": {
      "image/png": "[encoded data removed]",
      "text/plain": [
       "<Figure size 408.75x360 with 6 Axes>"
      ]
     },
     "metadata": {
      "needs_background": "light"
     },
     "output_type": "display_data"
    }
   ],
   "source": [
    "sns.pairplot(df.dropna(), vars=['c1', 'n2'], hue='label')"
   ]
  },
  {
   "cell_type": "code",
   "execution_count": null,
   "metadata": {},
   "outputs": [],
   "source": []
  }
 ],
 "metadata": {
  "kernelspec": {
   "display_name": "Python 3",
   "language": "python",
   "name": "python3"
  },
  "language_info": {
   "codemirror_mode": {
    "name": "ipython",
    "version": 3
   },
   "file_extension": ".py",
   "mimetype": "text/x-python",
   "name": "python",
   "nbconvert_exporter": "python",
   "pygments_lexer": "ipython3",
   "version": "3.6.8"
  }
 },
 "nbformat": 4,
 "nbformat_minor": 4
}
